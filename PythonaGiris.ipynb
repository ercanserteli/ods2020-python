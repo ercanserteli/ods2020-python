{
 "cells": [
  {
   "cell_type": "markdown",
   "metadata": {},
   "source": [
    "<H1>Python'a Giriş</H1>"
   ]
  },
  {
   "cell_type": "markdown",
   "metadata": {},
   "source": [
    "![title](imgs/python.png)\n",
    "Python'un bazı özellikleri:\n",
    "* Python yorumlanan bir dil, Matlab'a benziyor. Java, C, C++, C# gibi derlenen bir dil değil. Her yazılan *ifade* (statement) anında çalıştırılıyor.\n",
    "* Dinamik tipli (dynamically-typed) bir dildir. Değişkenlerin türünün el ile tanımlanması gerekmez.\n",
    "* Nesne tabanlı (object-oriented) programlamayı destekler. \n",
    "* Otomatik kötü girdileri temizleme (garbage collection) işlevi vardır.\n",
    "\n",
    "Bu kısımda Python ile ilgili herşeyi öğrenmeyeceğiz. Başka programlama dili bilenler için bir giriş yapacağız.\n",
    "\n",
    "**Python öğrenmeye başlamak için kaynaklar**:\n",
    "\n",
    "* https://www.codecademy.com/learn/python\n",
    "* http://docs.python-guide.org/en/latest/intro/learning/\n",
    "* https://learnpythonthehardway.org/book/\n",
    "* https://www.codementor.io/learn-python-online\n",
    "* https://stackabuse.com/python-tutorial-for-absolute-beginners/\n",
    "* https://www.py4e.com/ ve https://www.coursera.org/specializations/python\n",
    "\n",
    "**Her zaman elimizin altında olması iyi olacak Python referansı** (versiyonu ayarlanabilir):\n",
    "\n",
    "* https://docs.python.org/3.7/reference/\n",
    "\n",
    "Klasik Hello World ile başlayalım!"
   ]
  },
  {
   "cell_type": "code",
   "execution_count": 1,
   "metadata": {
    "scrolled": true
   },
   "outputs": [
    {
     "name": "stdout",
     "output_type": "stream",
     "text": [
      "Hello World!\n"
     ]
    }
   ],
   "source": [
    "print('Hello World!')"
   ]
  },
  {
   "cell_type": "markdown",
   "metadata": {},
   "source": [
    "## Kod Yorumları (Comments)\n",
    "\n",
    "Python'da tek satırdaki kodlar # karakteri ile başlar"
   ]
  },
  {
   "cell_type": "code",
   "execution_count": 2,
   "metadata": {},
   "outputs": [
    {
     "name": "stdout",
     "output_type": "stream",
     "text": [
      "Hello World\n"
     ]
    }
   ],
   "source": [
    "# Bu bir comment\n",
    "print(\"Hello World\")"
   ]
  },
  {
   "cell_type": "markdown",
   "metadata": {},
   "source": [
    "Çok satırlı yorumlar, üç adet tek tırnak ya da çift tırnak blokları içine yazılır (Bunlar aslında comment yerine stringlerdir ancak pratik olarak bahsedilen işe de yararlar)."
   ]
  },
  {
   "cell_type": "code",
   "execution_count": 3,
   "metadata": {},
   "outputs": [
    {
     "data": {
      "text/plain": [
       "'\\nBu çok satırlı bir comment\\n(aslında string, ama bir değişkene bağlı değil)\\n'"
      ]
     },
     "execution_count": 3,
     "metadata": {},
     "output_type": "execute_result"
    }
   ],
   "source": [
    "\"\"\"\n",
    "Bu çok satırlı bir comment\n",
    "(aslında string, ama bir değişkene bağlı değil)\n",
    "\"\"\""
   ]
  },
  {
   "cell_type": "markdown",
   "metadata": {},
   "source": [
    "## Sayılar"
   ]
  },
  {
   "cell_type": "markdown",
   "metadata": {},
   "source": [
    "Temel sayı türleri:\n",
    "* **int**\n",
    "* **float**\n",
    "* complex"
   ]
  },
  {
   "cell_type": "code",
   "execution_count": 4,
   "metadata": {},
   "outputs": [
    {
     "data": {
      "text/plain": [
       "1"
      ]
     },
     "execution_count": 4,
     "metadata": {},
     "output_type": "execute_result"
    }
   ],
   "source": [
    "1 #tam sayı, int"
   ]
  },
  {
   "cell_type": "code",
   "execution_count": 5,
   "metadata": {},
   "outputs": [
    {
     "data": {
      "text/plain": [
       "2"
      ]
     },
     "execution_count": 5,
     "metadata": {},
     "output_type": "execute_result"
    }
   ],
   "source": [
    "2"
   ]
  },
  {
   "cell_type": "code",
   "execution_count": 6,
   "metadata": {},
   "outputs": [
    {
     "data": {
      "text/plain": [
       "-3"
      ]
     },
     "execution_count": 6,
     "metadata": {},
     "output_type": "execute_result"
    }
   ],
   "source": [
    "-3"
   ]
  },
  {
   "cell_type": "code",
   "execution_count": 7,
   "metadata": {},
   "outputs": [
    {
     "data": {
      "text/plain": [
       "int"
      ]
     },
     "execution_count": 7,
     "metadata": {},
     "output_type": "execute_result"
    }
   ],
   "source": [
    "type(1)"
   ]
  },
  {
   "cell_type": "code",
   "execution_count": 8,
   "metadata": {},
   "outputs": [
    {
     "data": {
      "text/plain": [
       "float"
      ]
     },
     "execution_count": 8,
     "metadata": {},
     "output_type": "execute_result"
    }
   ],
   "source": [
    "3.14 # sürekli sayı, float\n",
    "type(3.14)\n",
    "\n",
    "2. # bu da bir float\n",
    "type(2.)"
   ]
  },
  {
   "cell_type": "code",
   "execution_count": 9,
   "metadata": {},
   "outputs": [
    {
     "name": "stdout",
     "output_type": "stream",
     "text": [
      "2\n",
      "2.0\n"
     ]
    }
   ],
   "source": [
    "print(2)\n",
    "print(2.)"
   ]
  },
  {
   "cell_type": "markdown",
   "metadata": {},
   "source": [
    "Tanımlı sayı operatörleri: \n",
    "* 4 işlem: +,-,*,/\n",
    "* Tam sayı bölmesi: //\n",
    "* Üstel fonksiyon: **\n",
    "* Modülüs: %\n",
    "* Atama operatörleri: += "
   ]
  },
  {
   "cell_type": "code",
   "execution_count": 10,
   "metadata": {},
   "outputs": [
    {
     "name": "stdout",
     "output_type": "stream",
     "text": [
      "7 3 10 2.5\n",
      "2 25 1\n"
     ]
    }
   ],
   "source": [
    "print(5+2, 5-2, 5*2, 5/2)\n",
    "print(5//2, 5**2, 5%2)"
   ]
  },
  {
   "cell_type": "code",
   "execution_count": 11,
   "metadata": {},
   "outputs": [
    {
     "name": "stdout",
     "output_type": "stream",
     "text": [
      "2.0\n"
     ]
    }
   ],
   "source": [
    "a = 5 # a=5\n",
    "a += 3 # a=5+3=8\n",
    "a /= 4 # a=8/4=2\n",
    "print(a)"
   ]
  },
  {
   "cell_type": "markdown",
   "metadata": {},
   "source": [
    "C ailesi dillerde olan increment (++) ve decrement(--) operatörleri Python'da yok, atama operatörleri bu amaçla kullanılır:"
   ]
  },
  {
   "cell_type": "code",
   "execution_count": 12,
   "metadata": {},
   "outputs": [
    {
     "name": "stdout",
     "output_type": "stream",
     "text": [
      "0\n",
      "1\n",
      "0\n"
     ]
    }
   ],
   "source": [
    "a = 0\n",
    "print(a)\n",
    "# increment\n",
    "a += 1 #a = a + 1\n",
    "print(a)\n",
    "# decrement\n",
    "a -= 1\n",
    "print(a)"
   ]
  },
  {
   "cell_type": "markdown",
   "metadata": {},
   "source": [
    "Veri Türleri Arasında Çevrimler"
   ]
  },
  {
   "cell_type": "code",
   "execution_count": 13,
   "metadata": {},
   "outputs": [
    {
     "data": {
      "text/plain": [
       "float"
      ]
     },
     "execution_count": 13,
     "metadata": {},
     "output_type": "execute_result"
    }
   ],
   "source": [
    "type(7.)"
   ]
  },
  {
   "cell_type": "code",
   "execution_count": 14,
   "metadata": {
    "scrolled": true
   },
   "outputs": [
    {
     "data": {
      "text/plain": [
       "int"
      ]
     },
     "execution_count": 14,
     "metadata": {},
     "output_type": "execute_result"
    }
   ],
   "source": [
    "type(int(7.))"
   ]
  },
  {
   "cell_type": "code",
   "execution_count": 15,
   "metadata": {},
   "outputs": [
    {
     "data": {
      "text/plain": [
       "str"
      ]
     },
     "execution_count": 15,
     "metadata": {},
     "output_type": "execute_result"
    }
   ],
   "source": [
    "type(str(7.))"
   ]
  },
  {
   "cell_type": "markdown",
   "metadata": {},
   "source": [
    "Kompleks sayıya örnek:"
   ]
  },
  {
   "cell_type": "code",
   "execution_count": 16,
   "metadata": {},
   "outputs": [
    {
     "name": "stdout",
     "output_type": "stream",
     "text": [
      "2j\n",
      "(-1.4+0.8j)\n"
     ]
    }
   ],
   "source": [
    "a = complex(-2, 3)\n",
    "b = complex(2, -1)\n",
    "print(a + b)\n",
    "print(a / b)"
   ]
  },
  {
   "cell_type": "markdown",
   "metadata": {},
   "source": [
    "## None"
   ]
  },
  {
   "cell_type": "code",
   "execution_count": 17,
   "metadata": {},
   "outputs": [],
   "source": [
    "None"
   ]
  },
  {
   "cell_type": "markdown",
   "metadata": {},
   "source": [
    "##  import, from, as"
   ]
  },
  {
   "cell_type": "markdown",
   "metadata": {},
   "source": [
    "Python *batteries included* şeklinde gelir, zengin bir standard kütüphanesi vardır. Belki de daha da zengin 3. kişi kütüphane desteğine sahiptir. \n",
    "\n",
    "* Python jargonunda belirli tanım ve ifadeler içeren dosyalara (kütüphanelere) modül denir. \n",
    "* Bir modüldeki Python koduna **import** komutu ile erişilebilir\n",
    "* Bir modüldeki spesifik bir kısmı almak için **from** komutu vardır\n",
    "* Modülü aldıktan sonra kullanım kolaylığı için adı **as** komutu ile belirtilebilir"
   ]
  },
  {
   "cell_type": "code",
   "execution_count": 20,
   "metadata": {},
   "outputs": [
    {
     "name": "stdout",
     "output_type": "stream",
     "text": [
      "2020-01-17 13:33:42.599572\n"
     ]
    }
   ],
   "source": [
    "import datetime\n",
    "x = datetime.datetime.now()\n",
    "print(x)"
   ]
  },
  {
   "cell_type": "code",
   "execution_count": 21,
   "metadata": {},
   "outputs": [
    {
     "name": "stdout",
     "output_type": "stream",
     "text": [
      "2020-01-17 13:33:43.037116\n"
     ]
    }
   ],
   "source": [
    "import datetime as dt\n",
    "x = dt.datetime.now()\n",
    "print(x)"
   ]
  },
  {
   "cell_type": "code",
   "execution_count": 22,
   "metadata": {},
   "outputs": [
    {
     "name": "stdout",
     "output_type": "stream",
     "text": [
      "2020-01-17 13:33:43.474663\n"
     ]
    }
   ],
   "source": [
    "from datetime import datetime\n",
    "x = datetime.now()\n",
    "print(x)"
   ]
  },
  {
   "cell_type": "code",
   "execution_count": 23,
   "metadata": {
    "scrolled": true
   },
   "outputs": [
    {
     "name": "stdout",
     "output_type": "stream",
     "text": [
      "2020-01-17 13:33:43.880982\n"
     ]
    }
   ],
   "source": [
    "from datetime import datetime as dt\n",
    "x = dt.now()\n",
    "print(x)"
   ]
  },
  {
   "cell_type": "markdown",
   "metadata": {},
   "source": [
    "## Referanslar"
   ]
  },
  {
   "attachments": {
    "image.png": {
     "image/png": "[encoded data removed]"
    }
   },
   "cell_type": "markdown",
   "metadata": {},
   "source": [
    "Referans, bir nesnenin hafızadaki adresidir. Python'da değişkenlerin hepsine referanslar üzerinden erişilir. Aynı hafızaya işaret eden birden fazla referans olabilir.\n",
    "\n",
    "Bir değişkeni diğerine atarken kullanılan `=` karakteri referansı atar, referansın bağlı olduğu nesneyi kopyalamaz. Bunun için tanımlıysa nesnenin `.copy` fonksiyonu ya da Python'un `copy` kütüphanesindeki *shallow copy* (`copy.copy`) ya da *deep copy* (`copy.deepcopy`) fonsksiyonları kullanılabilir\n",
    "\n",
    "![image.png](attachment:image.png)"
   ]
  },
  {
   "cell_type": "code",
   "execution_count": 24,
   "metadata": {},
   "outputs": [
    {
     "name": "stdout",
     "output_type": "stream",
     "text": [
      "[1, 2, 3, 4]\n",
      "[1, 2, 3]\n",
      "\n",
      "[['Mehmet', 21], ['Ayse', 19], ['Deniz', 22]]\n",
      "[['Mehmet', 21], ['Ayse', 19]]\n",
      "[['Mehmet', 21], ['Ayse', 19]]\n",
      "[['Ali', 21], ['Ayse', 19]]\n"
     ]
    }
   ],
   "source": [
    "import copy\n",
    "\n",
    "a=[1,2,3]\n",
    "b=a\n",
    "c=a.copy()\n",
    "a.append(4)\n",
    "print(b)\n",
    "print(c)\n",
    "print() # Tek boş satır basmak için\n",
    "\n",
    "a=[['Ali',21],['Ayse',19]]\n",
    "b=a\n",
    "c=a.copy() # shallow copy\n",
    "d=copy.copy(a) # shallow copy\n",
    "e=copy.deepcopy(a) # deep copy\n",
    "a.append(['Deniz',22])\n",
    "a[0][0] ='Mehmet'\n",
    "print(b)\n",
    "print(c)\n",
    "print(d)\n",
    "print(e)"
   ]
  },
  {
   "cell_type": "markdown",
   "metadata": {},
   "source": [
    "## Boolean Değerler "
   ]
  },
  {
   "cell_type": "code",
   "execution_count": 24,
   "metadata": {},
   "outputs": [
    {
     "data": {
      "text/plain": [
       "True"
      ]
     },
     "execution_count": 24,
     "metadata": {},
     "output_type": "execute_result"
    }
   ],
   "source": [
    "True"
   ]
  },
  {
   "cell_type": "code",
   "execution_count": 25,
   "metadata": {},
   "outputs": [
    {
     "data": {
      "text/plain": [
       "False"
      ]
     },
     "execution_count": 25,
     "metadata": {},
     "output_type": "execute_result"
    }
   ],
   "source": [
    "False"
   ]
  },
  {
   "cell_type": "markdown",
   "metadata": {},
   "source": [
    "Tanımlı Boolean operatörleri: and, or, not"
   ]
  },
  {
   "cell_type": "code",
   "execution_count": 25,
   "metadata": {},
   "outputs": [
    {
     "name": "stdout",
     "output_type": "stream",
     "text": [
      "False\n",
      "True\n",
      "False\n"
     ]
    }
   ],
   "source": [
    "print(True and False)\n",
    "print(True or False)\n",
    "print(not True)"
   ]
  },
  {
   "cell_type": "markdown",
   "metadata": {},
   "source": [
    "Boolean döndüren kıyaslama operatörleri:\n",
    "\n",
    "* `<`, `>` : Küçüktür, büyüktür\n",
    "* `<=`, `>=` : küçük veya eşittir, büyük veya eşittir\n",
    "* `==` : eşittir\n",
    "* `!=` : eşit değildir\n",
    "* `is` : referans eşittir\n",
    "\n",
    "Önemli Not: **is** ile **==** aynı operatör değiller. Birisi referansları (hafıza adresini) kontrol ederken diğeri değerleri kontrol eder"
   ]
  },
  {
   "cell_type": "code",
   "execution_count": 27,
   "metadata": {
    "scrolled": true
   },
   "outputs": [
    {
     "name": "stdout",
     "output_type": "stream",
     "text": [
      "True\n",
      "True\n",
      "False\n",
      "True\n",
      "True\n",
      "False\n",
      "True\n"
     ]
    }
   ],
   "source": [
    "print(5.1 > 5)\n",
    "print(5 >= 5)\n",
    "print(5 < 5)\n",
    "print(5 != 4)\n",
    "print(5 == 5)\n",
    "print(5 is 4)\n",
    "print(5 is 5)"
   ]
  },
  {
   "cell_type": "markdown",
   "metadata": {},
   "source": [
    "**is vs ==**"
   ]
  },
  {
   "cell_type": "code",
   "execution_count": 30,
   "metadata": {},
   "outputs": [
    {
     "name": "stdout",
     "output_type": "stream",
     "text": [
      "True\n",
      "False\n",
      "True\n"
     ]
    }
   ],
   "source": [
    "a = 5.1\n",
    "b = a\n",
    "c = 5.1\n",
    "\n",
    "print(a is b)\n",
    "print(a is c) \n",
    "print(a == c)"
   ]
  },
  {
   "cell_type": "markdown",
   "metadata": {},
   "source": [
    "Başka bir örnek:"
   ]
  },
  {
   "cell_type": "code",
   "execution_count": 32,
   "metadata": {},
   "outputs": [
    {
     "name": "stdout",
     "output_type": "stream",
     "text": [
      "True\n",
      "False\n",
      "True\n"
     ]
    }
   ],
   "source": [
    "a = [1,2]\n",
    "b = [1,2]\n",
    "c = a\n",
    "\n",
    "print(a == b)\n",
    "print(a is b)\n",
    "print(a is c)"
   ]
  },
  {
   "cell_type": "markdown",
   "metadata": {},
   "source": [
    "is komutu bazı durumlarda beklenmedik davranabilir (yorumlayıcıdaki optimizasyonlardan dolayı):"
   ]
  },
  {
   "cell_type": "code",
   "execution_count": 34,
   "metadata": {},
   "outputs": [
    {
     "name": "stdout",
     "output_type": "stream",
     "text": [
      "True\n",
      "True\n",
      "True\n"
     ]
    }
   ],
   "source": [
    "a = 5\n",
    "b = a\n",
    "c = 5\n",
    "\n",
    "print(a is b)\n",
    "print(a is c) \n",
    "print(a == c)"
   ]
  },
  {
   "cell_type": "markdown",
   "metadata": {},
   "source": [
    "## Dizgeler (Strings)"
   ]
  },
  {
   "cell_type": "markdown",
   "metadata": {},
   "source": [
    "Python'da dizge tanımlamak için tek tırnak veya çift tırnak kullanılır. "
   ]
  },
  {
   "cell_type": "code",
   "execution_count": 35,
   "metadata": {
    "scrolled": false
   },
   "outputs": [
    {
     "name": "stdout",
     "output_type": "stream",
     "text": [
      "İş\n",
      "Bankası\n"
     ]
    }
   ],
   "source": [
    "print('İş')\n",
    "print(\"Bankası\")"
   ]
  },
  {
   "cell_type": "markdown",
   "metadata": {},
   "source": [
    "Çeşitli string tanımlama örnekleri"
   ]
  },
  {
   "cell_type": "code",
   "execution_count": 36,
   "metadata": {},
   "outputs": [
    {
     "name": "stdout",
     "output_type": "stream",
     "text": [
      "kelime\n",
      "Bu bir cümle\n",
      "Bu bir paragraf. Birden fazla cümleden oluşur.\n",
      "İstenirse alt satıra da yazılır.\n"
     ]
    }
   ],
   "source": [
    "kelime = 'kelime'\n",
    "cümle = \"Bu bir cümle\"\n",
    "paragraf = \"\"\"Bu bir paragraf. Birden fazla cümleden oluşur.\n",
    "İstenirse alt satıra da yazılır.\"\"\" # Çift tırnakların yerine tek tırnak da kullanılabilir\n",
    "\n",
    "\"\"\"Bu çok satırlı\n",
    "bir yorumdur.\"\"\"\n",
    "\n",
    "print(kelime)\n",
    "print(cümle)\n",
    "print(paragraf)"
   ]
  },
  {
   "cell_type": "markdown",
   "metadata": {},
   "source": [
    "Dizgelerin içine tek tırnak veya çift tırnak koymak için bu ifadelerden önce \"\\\\\" karakterini eklemek gerekli."
   ]
  },
  {
   "cell_type": "code",
   "execution_count": 37,
   "metadata": {},
   "outputs": [
    {
     "name": "stdout",
     "output_type": "stream",
     "text": [
      "İş Bankası \"Türkiye’nin en büyük özel bankası\" ünvanını korudu.\n",
      "İş Bankası’na 'Yılın Bankası' ödülü verildi.\n",
      "İş Bankası’na 'Yılın Bankası' ödülü verildi.\n"
     ]
    }
   ],
   "source": [
    "haber1 = \"İş Bankası \\\"Türkiye’nin en büyük özel bankası\\\" ünvanını korudu.\"\n",
    "haber2 = 'İş Bankası’na \\'Yılın Bankası\\' ödülü verildi.'\n",
    "haber3 = \"İş Bankası’na 'Yılın Bankası' ödülü verildi.\" # String'in tırnağı ile içerideki tırnak farklı ise sorun yok\n",
    "print(haber1)\n",
    "print(haber2)\n",
    "print(haber3)"
   ]
  },
  {
   "cell_type": "markdown",
   "metadata": {},
   "source": [
    "Python'da + işareti ile stringler uç uca eklenir (string concetaneation)."
   ]
  },
  {
   "cell_type": "code",
   "execution_count": 38,
   "metadata": {
    "scrolled": false
   },
   "outputs": [
    {
     "name": "stdout",
     "output_type": "stream",
     "text": [
      "Hello World\n"
     ]
    }
   ],
   "source": [
    "print(\"Hello\" + \" \" + \"World\")"
   ]
  },
  {
   "cell_type": "markdown",
   "metadata": {},
   "source": [
    "Bu okunaklı olsa da görece olarak yavaştır. Özellikle aralara konulacak bir string varsa aşağıdaki gibi formatting yöntemlerinden biri tercih edilmelidir:"
   ]
  },
  {
   "cell_type": "code",
   "execution_count": 39,
   "metadata": {},
   "outputs": [
    {
     "name": "stdout",
     "output_type": "stream",
     "text": [
      "Günaydın Türkiye, bugün güzel bir gün\n",
      "Günaydın Türkiye, bugün güneşli bir gün, hava 12.65 derece\n",
      "\n",
      "Günaydın Türkiye, bugün güzel bir gün\n",
      "Günaydın Türkiye, bugün güneşli bir gün, hava 12.65 derece\n",
      "Günaydın güneşli Türkiye, bugün güneşli bir gün, hava 12.65 (12.65300) derece\n"
     ]
    }
   ],
   "source": [
    "sunny = \"güneşli\"\n",
    "\n",
    "# C-stili string formatting\n",
    "print(\"Günaydın Türkiye, bugün %s bir gün\" % 'güzel')\n",
    "print(\"Günaydın Türkiye, bugün %s bir gün, hava %.2f derece\" % (sunny, 12.653))\n",
    "\n",
    "print()\n",
    "\n",
    "# .format() metodu\n",
    "print(\"Günaydın Türkiye, bugün {} bir gün\".format('güzel'))\n",
    "print(\"Günaydın Türkiye, bugün {} bir gün, hava {:.2f} derece\".format(sunny, 12.653))\n",
    "print(\"Günaydın {a} Türkiye, bugün {a} bir gün, hava {b:.2f} ({b:.5f}) derece\".format(a=sunny, b=12.653))"
   ]
  },
  {
   "cell_type": "markdown",
   "metadata": {},
   "source": [
    "Python'da bütün değişkenler `str` komutu ile string veri yapısına çevrilebilir"
   ]
  },
  {
   "cell_type": "code",
   "execution_count": 40,
   "metadata": {},
   "outputs": [
    {
     "name": "stdout",
     "output_type": "stream",
     "text": [
      "Bugün Aralık 20\n",
      "20\n",
      "Bugün Aralık 20\n"
     ]
    }
   ],
   "source": [
    "print(\"Bugün Aralık \" + str(20))\n",
    "\n",
    "# print komutu, tek başına verilen bir değişkeni arka planda otomatik olarak str fonksiyonuna sokar\n",
    "print(20)\n",
    "\n",
    "# Ancak + komutu önce türlere baktığı için aşağıdaki komut hata verir:\n",
    "# print(\"Bugün Aralık \" + 20)\n",
    "\n",
    "# Her değişkene str eklemek istenmiyorsa değişkenler , ile ayrılmalıdır. Bu kendiliğinden yazılacaklar arasına bir boşluk koyar\n",
    "print(\"Bugün Aralık\", 20)"
   ]
  },
  {
   "cell_type": "markdown",
   "metadata": {},
   "source": [
    "Dizgelere yeni satır eklemenin bir yolu \"\\\\n\" karakterini kullanmak. Yeni satır karakteri işletim sisteminden işletim sistemine değişebileceği için `os.linesep` komutu kullanılması, özellikle birden fazla işletim sisteminde çalışılıyorsa, daha güvenli olabilir."
   ]
  },
  {
   "cell_type": "code",
   "execution_count": 41,
   "metadata": {},
   "outputs": [
    {
     "name": "stdout",
     "output_type": "stream",
     "text": [
      "Hello\n",
      "World\n",
      "\n",
      "Hello\r\n",
      "World\n"
     ]
    }
   ],
   "source": [
    "print(\"Hello\\nWorld\\n\")\n",
    "import os\n",
    "print(\"Hello\" + os.linesep + \"World\")"
   ]
  },
  {
   "cell_type": "markdown",
   "metadata": {},
   "source": [
    "`print` komutuna bastığı dizgenin sonuna otomatik olarak bir yeni satır ekler. Bunu değiştirmek mümkündür."
   ]
  },
  {
   "cell_type": "code",
   "execution_count": 42,
   "metadata": {},
   "outputs": [
    {
     "name": "stdout",
     "output_type": "stream",
     "text": [
      "Hello\n",
      "World\n",
      "Hello World\n"
     ]
    }
   ],
   "source": [
    "print(\"Hello\")\n",
    "print(\"World\")\n",
    "print(\"Hello\", end=' ')\n",
    "print(\"World\")"
   ]
  },
  {
   "cell_type": "markdown",
   "metadata": {},
   "source": [
    "Sık kullanılan dizge fonksiyonları:"
   ]
  },
  {
   "cell_type": "code",
   "execution_count": 43,
   "metadata": {},
   "outputs": [
    {
     "name": "stdout",
     "output_type": "stream",
     "text": [
      "11\n",
      "HELLO,WORLD\n",
      "hello,world\n",
      "['Hello', 'World']\n"
     ]
    }
   ],
   "source": [
    "a = \"Hello,World\"\n",
    "print(len(a))\n",
    "print(a.upper())\n",
    "print(a.lower())\n",
    "print(a.split(\",\"))"
   ]
  },
  {
   "cell_type": "code",
   "execution_count": 44,
   "metadata": {
    "scrolled": true
   },
   "outputs": [
    {
     "name": "stdout",
     "output_type": "stream",
     "text": [
      "noktalama işaretlerini , kaldırmak ' için . bir !, örnek \" mi bu?? evet, öyle bir örnek \\  \n",
      "noktalama işaretlerini  kaldırmak  için  bir  örnek  mi bu evet öyle bir örnek   \n"
     ]
    }
   ],
   "source": [
    "import string\n",
    "a = \"noktalama işaretlerini , kaldırmak \\' için . bir !, örnek \\\" mi bu?? evet, öyle bir örnek \\\\  \"\n",
    "print(a)\n",
    "print(a.translate(str.maketrans('', '', string.punctuation)))"
   ]
  },
  {
   "cell_type": "markdown",
   "metadata": {},
   "source": [
    "Nasıl çalıştığını merak edenlere:\n",
    "\n",
    "* `string.punctuation`: Noktalama İşaretleri \n",
    "* `str.maketrans(x,y,z)`: üçüncü argümandaki bütün karakterlere `None` atayan bir dict veri yapısı oluşturuyor.\n",
    "* `a.translate`:  `a` stringindeki dict olarak verilen veri yapısındaki key olarak yer alan karakterleri, karşılık gelen value karakterleriyle değiştiriyor.\n",
    "\n",
    "Hepsini birleştirince, `a` stringindeki noktalama işaretlerini `None` ile değiştiriyor yani efektif olarak siliyor."
   ]
  },
  {
   "cell_type": "markdown",
   "metadata": {},
   "source": [
    "Stringler **dilimlenebiliyor** (slicing)\n",
    "\n",
    "Dilimleme şekilleri (i,j >=0): \n",
    "* string[i]: i'inci eleman\n",
    "* string[-i]: sondan i elemanı\n",
    "* string[i:j]: i ve j elemanları arasındaki alt liste, j hariç\n",
    "* string[i:]: i elemanından sonuna kadar\n",
    "* string[:i]: baştan i elamanına kadar\n",
    "* string[i:j:k]: i ve j elemanları arasındaki ara listenin k adımlarla döndürülmesi, j hariç\n",
    "\n",
    "Not: Python endeksleri 0'dan başlar"
   ]
  },
  {
   "cell_type": "code",
   "execution_count": 45,
   "metadata": {},
   "outputs": [
    {
     "name": "stdout",
     "output_type": "stream",
     "text": [
      "Py\n",
      "Python\n",
      "ho\n",
      "n\n",
      "Pytho\n",
      "nohtyP\n",
      "yo\n"
     ]
    }
   ],
   "source": [
    "kelime = 'Python'\n",
    "print(kelime[0:2])\n",
    "print(kelime[:2] + kelime[2:])\n",
    "print(kelime[3:5])\n",
    "print(kelime[-1])\n",
    "print(kelime[:-1])\n",
    "print(kelime[::-1])\n",
    "print(kelime[1:5:3])"
   ]
  },
  {
   "cell_type": "markdown",
   "metadata": {},
   "source": [
    "## Koleksiyonlar"
   ]
  },
  {
   "cell_type": "markdown",
   "metadata": {},
   "source": [
    "Python'da 4 adet temel koleksiyon vardır:\n",
    "\n",
    "* dictionaries (hash tables): {}\n",
    "* lists: []\n",
    "* tuples: (item, ...)\n",
    "* set: set()"
   ]
  },
  {
   "cell_type": "code",
   "execution_count": 46,
   "metadata": {},
   "outputs": [
    {
     "data": {
      "text/plain": [
       "[1, 2, 3]"
      ]
     },
     "execution_count": 46,
     "metadata": {},
     "output_type": "execute_result"
    }
   ],
   "source": [
    "[1, 2, 3]"
   ]
  },
  {
   "cell_type": "code",
   "execution_count": 47,
   "metadata": {},
   "outputs": [
    {
     "data": {
      "text/plain": [
       "(1, 2, 3)"
      ]
     },
     "execution_count": 47,
     "metadata": {},
     "output_type": "execute_result"
    }
   ],
   "source": [
    "(1, 2, 3)"
   ]
  },
  {
   "cell_type": "code",
   "execution_count": 48,
   "metadata": {},
   "outputs": [
    {
     "data": {
      "text/plain": [
       "(1, 2, 3)"
      ]
     },
     "execution_count": 48,
     "metadata": {},
     "output_type": "execute_result"
    }
   ],
   "source": [
    "1, 2, 3"
   ]
  },
  {
   "cell_type": "code",
   "execution_count": 49,
   "metadata": {},
   "outputs": [
    {
     "data": {
      "text/plain": [
       "{'elma': 'meyve', 'salatalık': 'sebze', 'maymun': 'memeli'}"
      ]
     },
     "execution_count": 49,
     "metadata": {},
     "output_type": "execute_result"
    }
   ],
   "source": [
    "{\"elma\": \"meyve\", \"salatalık\": \"sebze\", \"maymun\": \"memeli\"}"
   ]
  },
  {
   "cell_type": "code",
   "execution_count": 50,
   "metadata": {},
   "outputs": [
    {
     "name": "stdout",
     "output_type": "stream",
     "text": [
      "meyve\n"
     ]
    }
   ],
   "source": [
    "d = {\"elma\": \"meyve\", \"salatalık\": \"sebze\", \"monkey\": \"memeli\"}\n",
    "print(d[\"elma\"])"
   ]
  },
  {
   "cell_type": "code",
   "execution_count": 52,
   "metadata": {
    "scrolled": true
   },
   "outputs": [
    {
     "name": "stdout",
     "output_type": "stream",
     "text": [
      "None\n",
      "bilmiyorum\n"
     ]
    }
   ],
   "source": [
    "d = {\"elma\": \"meyve\", \"salatalık\": \"sebze\", \"monkey\": \"memeli\"}\n",
    "# d[\"armut\"] yazarsak hata verir, onun yerine\n",
    "\n",
    "print(d.get(\"armut\"))\n",
    "print(d.get(\"armut\", \"bilmiyorum\")) #get ile olmayanın yerine verilen default değeri döndürür"
   ]
  },
  {
   "cell_type": "markdown",
   "metadata": {},
   "source": [
    "Dictionary veri yapılarınde anahtar-değer (key-value) ikilileri vardır. Bunlara ulaşmak için:"
   ]
  },
  {
   "cell_type": "code",
   "execution_count": 53,
   "metadata": {},
   "outputs": [
    {
     "name": "stdout",
     "output_type": "stream",
     "text": [
      "dict_keys(['elma', 'salatalık', 'monkey'])\n",
      "dict_values(['meyve', 'sebze', 'memeli'])\n",
      "dict_items([('elma', 'meyve'), ('salatalık', 'sebze'), ('monkey', 'memeli')])\n"
     ]
    }
   ],
   "source": [
    "print(d.keys())\n",
    "print(d.values())\n",
    "print(d.items())"
   ]
  },
  {
   "cell_type": "markdown",
   "metadata": {},
   "source": [
    "List değiştirilebilir (mutable). Tuple değiştirilemez, sadece okunur (immutable). Tuple dictionary için anahtar olabilir ama List olamaz."
   ]
  },
  {
   "cell_type": "code",
   "execution_count": 54,
   "metadata": {},
   "outputs": [
    {
     "name": "stdout",
     "output_type": "stream",
     "text": [
      "[1, 1, 4]\n"
     ]
    }
   ],
   "source": [
    "a = [1, 2, 3]\n",
    "a[2] = 4\n",
    "a[1] -= 1 # a[1] = a[1] - 1\n",
    "print(a)"
   ]
  },
  {
   "cell_type": "code",
   "execution_count": 55,
   "metadata": {},
   "outputs": [
    {
     "name": "stdout",
     "output_type": "stream",
     "text": [
      "2\n"
     ]
    }
   ],
   "source": [
    "a = (1, 2)\n",
    "print(a[1])\n",
    "# a[1] = 2 yazsaydık hata verecekti"
   ]
  },
  {
   "cell_type": "code",
   "execution_count": 56,
   "metadata": {},
   "outputs": [
    {
     "data": {
      "text/plain": [
       "{(1, 2): 'tuple'}"
      ]
     },
     "execution_count": 56,
     "metadata": {},
     "output_type": "execute_result"
    }
   ],
   "source": [
    "{(1, 2): 'tuple'} # {[1,2]:'list'} yazsaydık hata verecekti"
   ]
  },
  {
   "cell_type": "markdown",
   "metadata": {},
   "source": [
    "Bir takım liste fonksiyonları"
   ]
  },
  {
   "cell_type": "code",
   "execution_count": 63,
   "metadata": {},
   "outputs": [
    {
     "data": {
      "text/plain": [
       "3"
      ]
     },
     "execution_count": 63,
     "metadata": {},
     "output_type": "execute_result"
    }
   ],
   "source": [
    "len([1, 2, 3]) # tuple ve dictionary için de çalışır"
   ]
  },
  {
   "cell_type": "code",
   "execution_count": 50,
   "metadata": {
    "scrolled": true
   },
   "outputs": [
    {
     "name": "stdout",
     "output_type": "stream",
     "text": [
      "[1, 2]\n"
     ]
    }
   ],
   "source": [
    "a = []\n",
    "a.append(1)\n",
    "a.append(2)\n",
    "print(a)"
   ]
  },
  {
   "cell_type": "markdown",
   "metadata": {},
   "source": [
    "List elemanları herhangi bir nesne olabilir, tek bir tip ile sınırlı olmasına gerek yoktur. Bu bağlamda tipik array veri yapısından faklılık gösterir. Array veri yapılarını numpy kısmında göreceğiz."
   ]
  },
  {
   "cell_type": "code",
   "execution_count": 57,
   "metadata": {},
   "outputs": [
    {
     "name": "stdout",
     "output_type": "stream",
     "text": [
      "[0, 1, 2, 3, 4, 5, 6, 7, 8, 9]\n",
      "[0, 1, 2, 9.7, 'lalala', 5, 6, 7, 8, 9]\n"
     ]
    }
   ],
   "source": [
    "a = [0, 1, 2, 3, 4, 5, 6, 7, 8, 9]\n",
    "print(a)\n",
    "a[3] = 9.7\n",
    "a[4] = 'lalala'\n",
    "print(a)"
   ]
  },
  {
   "cell_type": "markdown",
   "metadata": {},
   "source": [
    "Listeler **dilimlenebiliyor** (slicing)\n",
    "\n",
    "Dilimleme şekilleri (i,j >=0): \n",
    "* liste[i]: i'inci eleman\n",
    "* liste[-i]: sondan i elemanı\n",
    "* liste[i:j]: i ve j elemanları arasındaki alt liste, j hariç\n",
    "* liste[i:]: i elemanından sonuna kadar\n",
    "* liste[:i]: baştan i elamanına kadar\n",
    "* liste[i:j:k]: i ve j elemanları arasındaki ara listenin k adımlarla döndürülmesi, j hariç"
   ]
  },
  {
   "cell_type": "code",
   "execution_count": 58,
   "metadata": {
    "scrolled": true
   },
   "outputs": [
    {
     "name": "stdout",
     "output_type": "stream",
     "text": [
      "0 [2, 3, 4] 8 [2, 3, 4, 5, 6, 7, 8, 9] [0, 1, 2, 3, 4] [0, 1, 2, 3, 4, 5, 6, 7] [8, 9]\n",
      "[1, 3]\n",
      "[7, 6, 5, 4]\n",
      "[9, 8, 7, 6, 5, 4, 3, 2, 1, 0]\n",
      "[9, 7, 5, 3, 1]\n"
     ]
    }
   ],
   "source": [
    "a = [0,1,2,3,4,5,6,7,8,9]\n",
    "print(a[0],a[2:5],a[-2], a[2:],a[:5], a[:-2],a[-2:])\n",
    "print(a[1:5:2])\n",
    "print(a[7:3:-1])\n",
    "print(a[::-1])\n",
    "print(a[::-2])"
   ]
  },
  {
   "cell_type": "markdown",
   "metadata": {},
   "source": [
    "**Liste birleştirme** (concatenation)"
   ]
  },
  {
   "cell_type": "code",
   "execution_count": 95,
   "metadata": {},
   "outputs": [
    {
     "name": "stdout",
     "output_type": "stream",
     "text": [
      "[1, 2, 3, 9, 8, 7]\n",
      "[1, 2, 3, 9, 8, 7]\n"
     ]
    }
   ],
   "source": [
    "a = [1, 2, 3]\n",
    "b = [9, 8, 7]\n",
    "\n",
    "c = a + b\n",
    "print(c)\n",
    "\n",
    "a.extend(b)\n",
    "print(a)"
   ]
  },
  {
   "cell_type": "markdown",
   "metadata": {},
   "source": [
    "**Liste Kavraması**: Liste içindeki kodun listeyi doldurması (List Comprehension)"
   ]
  },
  {
   "cell_type": "code",
   "execution_count": 59,
   "metadata": {},
   "outputs": [
    {
     "data": {
      "text/plain": [
       "[0, 1, 4, 9, 16]"
      ]
     },
     "execution_count": 59,
     "metadata": {},
     "output_type": "execute_result"
    }
   ],
   "source": [
    "[x ** 2 for x in range(5)]"
   ]
  },
  {
   "cell_type": "code",
   "execution_count": 60,
   "metadata": {},
   "outputs": [
    {
     "data": {
      "text/plain": [
       "[0, 1, 4, 9, 16]"
      ]
     },
     "execution_count": 60,
     "metadata": {},
     "output_type": "execute_result"
    }
   ],
   "source": [
    "l = []\n",
    "for x in range(5):\n",
    "    l.append(x ** 2)\n",
    "l"
   ]
  },
  {
   "cell_type": "markdown",
   "metadata": {},
   "source": [
    "Liste kavraması daha *pythonic* "
   ]
  },
  {
   "cell_type": "markdown",
   "metadata": {},
   "source": [
    "**Set** (küme):\n",
    "* Tekrar etmeyen verileri saklar\n",
    "* Listeler gibi değiştirilebilirler (mutable)\n",
    "* Bir verinin sette olup olmadığı hızlıca sorgulanabilir\n",
    "* Küme operasyonlarını destekler"
   ]
  },
  {
   "cell_type": "code",
   "execution_count": 62,
   "metadata": {
    "scrolled": true
   },
   "outputs": [
    {
     "name": "stdout",
     "output_type": "stream",
     "text": [
      "{1, 2, 3, 4}\n",
      "{1, 2, 3, 4, 5}\n",
      "{1, 2, 3, 4, 5}\n",
      "True\n",
      "False\n",
      "{1, 2, 3, 4, 5, 6}\n",
      "{4, 5}\n",
      "{1, 2, 3}\n"
     ]
    }
   ],
   "source": [
    "a = set([1,2,3,4]) # set fonksiyonuna bir liste verilerek oluşturulabilir\n",
    "print(a)\n",
    "a.add(5)\n",
    "print(a)\n",
    "a.add(5)\n",
    "print(a)\n",
    "print(5 in a)\n",
    "print(6 in a)\n",
    "\n",
    "b = {4, 5, 6} # Süslü parantezler ile de oluşturulabilir (dict gibi)\n",
    "print(a.union(b))\n",
    "print(a.intersection(b))\n",
    "print(a - b)"
   ]
  },
  {
   "cell_type": "markdown",
   "metadata": {},
   "source": [
    "## Fonksiyon Tanımlama"
   ]
  },
  {
   "cell_type": "code",
   "execution_count": 63,
   "metadata": {},
   "outputs": [],
   "source": [
    "def topla(a, b):\n",
    "    return a + b"
   ]
  },
  {
   "cell_type": "code",
   "execution_count": 64,
   "metadata": {},
   "outputs": [
    {
     "data": {
      "text/plain": [
       "7"
      ]
     },
     "execution_count": 64,
     "metadata": {},
     "output_type": "execute_result"
    }
   ],
   "source": [
    "topla(3, 4)"
   ]
  },
  {
   "cell_type": "code",
   "execution_count": 65,
   "metadata": {},
   "outputs": [],
   "source": [
    "def topla(a, b):\n",
    "    a + b"
   ]
  },
  {
   "cell_type": "code",
   "execution_count": 66,
   "metadata": {},
   "outputs": [
    {
     "name": "stdout",
     "output_type": "stream",
     "text": [
      "None\n"
     ]
    }
   ],
   "source": [
    "c = topla(3, 4)\n",
    "print(c)"
   ]
  },
  {
   "cell_type": "markdown",
   "metadata": {},
   "source": [
    "Python'da fonksiyon tanımlarken **return** ifadesi kullanılmaz ise, doğrudan **None** döner."
   ]
  },
  {
   "cell_type": "markdown",
   "metadata": {},
   "source": [
    "**Not:** Python'da kod blokları, girintilerle (indentation), Java ve C ailesinde bloklar küme parantezleri ile belirlenir."
   ]
  },
  {
   "cell_type": "markdown",
   "metadata": {},
   "source": [
    "Fonksiyon parametrelerine varsayılan (default) değerler atanabilir."
   ]
  },
  {
   "cell_type": "code",
   "execution_count": 67,
   "metadata": {
    "scrolled": true
   },
   "outputs": [
    {
     "name": "stdout",
     "output_type": "stream",
     "text": [
      "10\n",
      "20\n"
     ]
    }
   ],
   "source": [
    "def kat(a, b=1):\n",
    "    return a*b\n",
    "print(kat(10))\n",
    "print(kat(10, 2))"
   ]
  },
  {
   "cell_type": "markdown",
   "metadata": {},
   "source": [
    "Diğer varsayılan değerleri etkilemeden, sıranın daha sonrasındaki değerleri değiştirmek mümkün."
   ]
  },
  {
   "cell_type": "code",
   "execution_count": 69,
   "metadata": {},
   "outputs": [
    {
     "data": {
      "text/plain": [
       "6"
      ]
     },
     "execution_count": 69,
     "metadata": {},
     "output_type": "execute_result"
    }
   ],
   "source": [
    "def sacmaFonksiyon(a, b=1, c=1, d=1, e=0):\n",
    "    return (a+b+d+e)*c\n",
    "\n",
    "sacmaFonksiyon(1, c=2)"
   ]
  },
  {
   "cell_type": "markdown",
   "metadata": {},
   "source": [
    "Python'da fonksiyonlar birden fazla değer döndürebilir. Fibonacci numarasi hesaplama örneği:"
   ]
  },
  {
   "cell_type": "code",
   "execution_count": 71,
   "metadata": {},
   "outputs": [
    {
     "data": {
      "text/plain": [
       "8"
      ]
     },
     "execution_count": 71,
     "metadata": {},
     "output_type": "execute_result"
    }
   ],
   "source": [
    "def fibonacciNumarasi(x):\n",
    "    return sum(fibonacciHelper(x))\n",
    "\n",
    "def fibonacciHelper(x):\n",
    "    if x < 2:\n",
    "        return 0, 1\n",
    "    else:\n",
    "        tmp = fibonacciHelper(x-1)\n",
    "        a = tmp[1]\n",
    "        b = tmp[0] + tmp[1]\n",
    "        return a, b\n",
    "    \n",
    "fibonacciNumarasi(5)"
   ]
  },
  {
   "cell_type": "markdown",
   "metadata": {},
   "source": [
    "## Çoklu Atama (Multiple Assignment)"
   ]
  },
  {
   "cell_type": "code",
   "execution_count": 73,
   "metadata": {},
   "outputs": [
    {
     "name": "stdout",
     "output_type": "stream",
     "text": [
      "1 2\n",
      "3 5\n",
      "1 2\n"
     ]
    }
   ],
   "source": [
    "# Doğrudan\n",
    "a, b = 1, 2\n",
    "print(a, b)\n",
    "\n",
    "# Fonksiyon çıktısından\n",
    "a, b = fibonacciHelper(5)\n",
    "print(a, b)\n",
    "\n",
    "# Unpacking\n",
    "a, b = (1, 2)\n",
    "print(a, b)"
   ]
  },
  {
   "cell_type": "markdown",
   "metadata": {},
   "source": [
    "## Akış Kontrolü\n",
    "\n",
    "Bir kaç örneğini gördük ama üzerinde durmadık. Pythonda akışı kontrol etmek için özel karakterler (örneğin C-ailesindeki küme parantezleri { }) yerine boşluk (rule of thumb: 2 ya da 4 boşluk) veya tab (1 adet) kullanılır. Standart olan 4 boşluk kullanmak.\n",
    "\n",
    "İki nokta üst üste işareti, bazı durumlarda indentation başlangıcını belirtmek için kullanılır.\n",
    "\n",
    "Örnekler için bir sonraki kısma bakınız."
   ]
  },
  {
   "cell_type": "markdown",
   "metadata": {},
   "source": [
    "## Koşullu Önermeler"
   ]
  },
  {
   "cell_type": "code",
   "execution_count": 75,
   "metadata": {},
   "outputs": [
    {
     "name": "stdout",
     "output_type": "stream",
     "text": [
      "x beşten büyük:  6\n",
      "tmp\n",
      "x pozitif:  4\n",
      "x üç ile beş arasında:  4\n",
      "tmp\n",
      "x pozitif:  1\n",
      "x üç ile sıfır arasında:  1\n",
      "tmp\n",
      "x sıfır:  0\n",
      "tmp\n",
      "x negatif:  -1\n",
      "tmp\n"
     ]
    }
   ],
   "source": [
    "def kosulTesti(x):\n",
    "    if x > 5:\n",
    "        print('x beşten büyük: ', x)\n",
    "    elif x > 0:\n",
    "        print('x pozitif: ', x)\n",
    "        if x > 3:\n",
    "            print('x üç ile beş arasında: ', x)\n",
    "        else:\n",
    "            print('x üç ile sıfır arasında: ', x)\n",
    "    elif x == 0:\n",
    "        print('x sıfır: ', x)\n",
    "    else:\n",
    "        print('x negatif: ', x)\n",
    "    print('tmp')\n",
    "\n",
    "kosulTesti(6)\n",
    "kosulTesti(4)\n",
    "kosulTesti(1)\n",
    "kosulTesti(0)\n",
    "kosulTesti(-1)"
   ]
  },
  {
   "cell_type": "markdown",
   "metadata": {},
   "source": [
    "## Döngüler"
   ]
  },
  {
   "cell_type": "markdown",
   "metadata": {},
   "source": [
    "**While** döngüsü"
   ]
  },
  {
   "cell_type": "code",
   "execution_count": 76,
   "metadata": {},
   "outputs": [
    {
     "name": "stdout",
     "output_type": "stream",
     "text": [
      "Hello\n",
      "Hello\n",
      "Hello\n"
     ]
    }
   ],
   "source": [
    "x = 0\n",
    "while x < 3:\n",
    "    x += 1 # x = x + 1\n",
    "    print('Hello')"
   ]
  },
  {
   "cell_type": "markdown",
   "metadata": {},
   "source": [
    "**For** döngüsü"
   ]
  },
  {
   "cell_type": "code",
   "execution_count": 77,
   "metadata": {},
   "outputs": [
    {
     "name": "stdout",
     "output_type": "stream",
     "text": [
      "1\n",
      "2\n",
      "3\n",
      "4\n"
     ]
    }
   ],
   "source": [
    "for i in [1,2,3,4]:\n",
    "    print(i)\n",
    "   "
   ]
  },
  {
   "cell_type": "markdown",
   "metadata": {},
   "source": [
    "**break** ve **continue** komutları"
   ]
  },
  {
   "cell_type": "code",
   "execution_count": 94,
   "metadata": {},
   "outputs": [
    {
     "name": "stdout",
     "output_type": "stream",
     "text": [
      "0\n",
      "1\n",
      "2\n",
      "4\n",
      "5\n",
      "6\n",
      "7\n"
     ]
    }
   ],
   "source": [
    "for i in range(100):\n",
    "    if i == 3:\n",
    "        continue\n",
    "    if i == 8:\n",
    "        break\n",
    "    print(i)"
   ]
  },
  {
   "cell_type": "code",
   "execution_count": 97,
   "metadata": {},
   "outputs": [
    {
     "name": "stdout",
     "output_type": "stream",
     "text": [
      "2 + 2 kaçtır?5\n",
      "2 + 2 kaçtır?4\n",
      "Doğru!\n"
     ]
    }
   ],
   "source": [
    "while True:\n",
    "    inp = input(\"2 + 2 kaçtır?\")\n",
    "    if inp == \"4\":\n",
    "        print(\"Doğru!\")\n",
    "        break"
   ]
  },
  {
   "cell_type": "markdown",
   "metadata": {},
   "source": [
    "**range** fonksiyonu:\n",
    "* range(e): [0,1,..,e-1]\n",
    "* range(s, e): [s, s+1,..,e-1]\n",
    "* range(s, e, inc): [s, s+inc, .., e-inc]\n"
   ]
  },
  {
   "cell_type": "code",
   "execution_count": 78,
   "metadata": {
    "scrolled": true
   },
   "outputs": [
    {
     "name": "stdout",
     "output_type": "stream",
     "text": [
      "3\n",
      "5\n",
      "7\n",
      "9\n",
      "11\n"
     ]
    }
   ],
   "source": [
    "for i in range(3, 13, 2):\n",
    "    print(i)"
   ]
  },
  {
   "cell_type": "code",
   "execution_count": 86,
   "metadata": {
    "scrolled": true
   },
   "outputs": [
    {
     "name": "stdout",
     "output_type": "stream",
     "text": [
      "13 11 9 7 5 "
     ]
    }
   ],
   "source": [
    "for i in range(13, 3, -2):\n",
    "    print(i, end=' ')"
   ]
  },
  {
   "cell_type": "code",
   "execution_count": 79,
   "metadata": {},
   "outputs": [
    {
     "data": {
      "text/plain": [
       "[0, 1, 2, 3, 4]"
      ]
     },
     "execution_count": 79,
     "metadata": {},
     "output_type": "execute_result"
    }
   ],
   "source": [
    "a = list(range(5))\n",
    "a"
   ]
  },
  {
   "cell_type": "markdown",
   "metadata": {},
   "source": [
    "Pythonda for döngüsü aslında foreach döngüsüdür. Foreach döngülerinde *iterable* nesneler üzerinde *iteration* yapılır."
   ]
  },
  {
   "cell_type": "code",
   "execution_count": 80,
   "metadata": {},
   "outputs": [
    {
     "name": "stdout",
     "output_type": "stream",
     "text": [
      "elma\n",
      "armut\n",
      "domates\n",
      "salatalik\n"
     ]
    }
   ],
   "source": [
    "urunler = ['elma', 'armut', 'domates', 'salatalik']\n",
    "\n",
    "for urun in urunler:\n",
    "    print(urun)"
   ]
  },
  {
   "cell_type": "markdown",
   "metadata": {},
   "source": [
    "Endeksler gerekliyse"
   ]
  },
  {
   "cell_type": "code",
   "execution_count": 81,
   "metadata": {},
   "outputs": [
    {
     "name": "stdout",
     "output_type": "stream",
     "text": [
      "0 elma\n",
      "1 armut\n",
      "2 domates\n",
      "3 salatalik\n",
      "\n",
      "0 elma\n",
      "1 armut\n",
      "2 domates\n",
      "3 salatalik\n",
      "\n",
      "<class 'enumerate'>\n",
      "(0, 'elma')\n",
      "(1, 'armut')\n",
      "(2, 'domates')\n",
      "(3, 'salatalik')\n"
     ]
    }
   ],
   "source": [
    "# 1.yol\n",
    "for i in range(len(urunler)):\n",
    "   print(i, urunler[i])\n",
    "\n",
    "print()\n",
    "\n",
    "# Pythonic olan 2. yol\n",
    "for i, urun in enumerate(urunler):\n",
    "   print(i, urun)\n",
    "print()\n",
    "\n",
    "# enumerate iterable bir nesne yaratıyor\n",
    "a = enumerate(urunler)\n",
    "print(type(a))\n",
    "\n",
    "for urun in a:\n",
    "    print(urun)"
   ]
  },
  {
   "cell_type": "markdown",
   "metadata": {},
   "source": [
    "Dictionary ile örnekler:"
   ]
  },
  {
   "cell_type": "code",
   "execution_count": 82,
   "metadata": {
    "scrolled": true
   },
   "outputs": [
    {
     "name": "stdout",
     "output_type": "stream",
     "text": [
      "meyve\n",
      "sebze\n",
      "memeli\n",
      "\n",
      "elma meyve\n",
      "salatalık sebze\n",
      "monkey memeli\n"
     ]
    }
   ],
   "source": [
    "a={\"elma\": \"meyve\", \"salatalık\": \"sebze\", \"monkey\": \"memeli\"}\n",
    "\n",
    "for key in a.keys():\n",
    "    print(a[key])\n",
    "print()\n",
    "for key, value in a.items():\n",
    "    print(key, value)"
   ]
  },
  {
   "cell_type": "markdown",
   "metadata": {},
   "source": [
    "### Örnek: Basit Metin İşlemek\n",
    "\n",
    "* Aşağıda verilen metindeki noktalama işaretlerini, sayıları (hint: `string.digits`) ve yeni satır karakterlerini temizleyin, küçük harfe çevirin ve boşlukları kaldırarak (`.split()` doğrudan beyaz boşluklara (ing: whitespace, boşluk ve satır atlama karakterleri dahil) göre ayırır) kelimelere ayırın.\n",
    "* Her kelimenin kaç kere geçtiğini hesaplayınız."
   ]
  },
  {
   "cell_type": "code",
   "execution_count": 84,
   "metadata": {
    "scrolled": true
   },
   "outputs": [
    {
     "name": "stdout",
     "output_type": "stream",
     "text": [
      "İş Bankasına 'Yılın Bankası' ödülü:\n",
      "\n",
      "Bankacılık sektörünün önde gelen uluslararası yayınları arasında yer alan The Banker dergisi, güçlü finansal performansı ile dijitalleşme ve inovasyon alanında başlattığı inisiyatiflerle yenilikçi hizmet anlayışını sürdürmesi nedeniyle İş Bankası’na 'Yılın Bankası' ödülünü verdi.\n",
      "\n",
      "İş Bankası, bankacılık sektörünün önde gelen uluslararası yayınları arasında yer alan The Banker dergisi tarafından, \"Türkiye’de Yılın Bankası\" ödülüne layık görüldü.\n",
      "\n",
      "Bankanın bu ödülü almasında; güçlü finansal performansı ile dijitalleşme ve inovasyon alanında başlattığı inisiyatiflerle yenilikçi hizmet anlayışını sürdürmesi etkili oldu. Ödülü, Londra’da düzenlenen törende İş Bankası Genel Müdür Yardımcısı Gamze Yalçın aldı.\n",
      "\n",
      "Konsolide aktif büyüklüğünü Eylül 2019 itibarıyla 526,3 milyar TL’ye yükselten ve \"Türkiye’nin en büyük özel bankası\" unvanını koruyan İş Bankası, aynı dönemde ekonomiye toplam 396,1 milyar TL düzeyinde destek sağladı. Konsolide mevduat hacmini 269,9 milyar TL’ye çıkaran ve mevduatta da özel bankalar arasındaki liderliğini sürdüren Banka, özkaynak büyüklüğünü bu yılın üçüncü çeyreği itibarıyla 61,2 milyar TL’ye yükseltti. Yılın ilk 9 ayında konsolide bazda 4,5 milyar TL net kâr elde eden Banka, sermaye yeterlilik oranını %17,8 seviyesine yükseltti.\n",
      "\n",
      "Müşteri odaklı yaklaşımı ile teknolojik yenilikler, dijitalleşme ve inovasyon alanında Türkiye’de sektöre öncülük eden İş Bankası, müşterilerinin teknolojinin getirdiği kolaylık ve hızdan faydalanması, tüm iş yapış süreçlerinin dijitalleşmeye adapte edilmesi, sağlam ve güçlü bir şekilde varlık göstererek öncü konumunun pekiştirilmesi için dönüşüm çalışmalarını sürdürüyor.\n",
      "\n",
      "İş Bankası’nda bu çalışmaları; yenilikçi ürün ve hizmetlerden girişimcileri destekleyen işbirlikleri ile şubeleri ve organizasyonel yapıyı kapsayan uygulamalara kadar geniş bir yelpazede yürütülüyor. Bankada şu anda dijital kanallardan yapılan işlemler %90’ı aşmış, mobil bankacılık uygulaması olan İşCep’in payı da %60’a yaklaşmış durumda.\n",
      "\n",
      "Bankanın üçüncü parti geliştiriciler, girişimler ve finansal kuruluşlara yenilikçi ürünler tasarlayabilecekleri bir ortam sağlayan Uygulama Programlama Arayüzü (API) Portalı, inovatif bir platform olma özelliği taşıyor. 14 uygulama ile başlayan API Portalı; bugün kredi işlemleri, para transferi, döviz işlemleri, mevduat hesap hareketleri gibi geniş bir yelpazede 20’den fazla farklı uygulamayı içeriyor. Geliştiriciler, API’lerle hazır şekilde sunulan fonksiyonları kullanarak, zaman ve kaynak maliyetinden tasarruf sağlıyor.\n",
      "\n",
      "Kurulduğu ilk yıllardan itibaren gerek iştirakler yoluyla gerekse müteşebbislere verdiği destek ile sadece finans alanında değil, finans dışı alanlarda da ülke kalkınmasında önemli rol üstlenen İş Bankası, bugüne kadar olduğu gibi Türkiye ekonomisini desteklemeye, teknolojik yenilikler ve dijitalleşme çalışmaları ile sektörde öncü olmaya devam edecek.\n",
      "\n",
      "İş Bankası, Forbes ve Brand Finance’ın listelerinde:\n",
      "\n",
      "Çalışanları ve emeklileri ile büyük bir aile olan İş Bankası, dünyanın en itibarlı dergilerinden olan Forbes’un her yıl yapmış olduğu \"En İyi 500 İşveren\" kategorisinde listeye giren tek Türk bankası oldu ve 62 banka arasında 32. sırada yer aldı.\n",
      "\n",
      "İş Bankası, dünyanın önde gelen marka değerleme ve strateji danışmanlığı kuruluşlarından olan Brand Finance’in yayımladığı \"Banking 500 2019\" raporunda da \"dünyanın marka gücü en yüksek 10 bankasından biri\" seçildi.\n",
      "\n",
      "\"Yılın Bankası\" ödülleri ve ödül töreni:\n",
      "\n",
      "Yılın Bankası ödülü; iş dünyasının yakından takip ettiği finans ve ekonomi mecralarından biri olan \"The Financial Times\" bünyesinde aylık olarak yayımlanan \"The Banker\" dergisi tarafından veriliyor. Ödüller, uzman bankacı ve analistlerin görüşlerine dayanarak dünyanın birçok ülkesindeki bankaların değerlendirilmesi sonucunda belirleniyor.\n",
      "\n",
      "Bu yılki ödül törenine; dünyanın birçok ülkesinden 120 bankanın yöneticilerinin de aralarında bulunduğu yaklaşık 350 kişi katıldı.\n"
     ]
    }
   ],
   "source": [
    "metin = \"\"\"İş Bankasına 'Yılın Bankası' ödülü:\n",
    "\n",
    "Bankacılık sektörünün önde gelen uluslararası yayınları arasında yer alan The Banker dergisi, güçlü finansal performansı ile dijitalleşme ve inovasyon alanında başlattığı inisiyatiflerle yenilikçi hizmet anlayışını sürdürmesi nedeniyle İş Bankası’na \\'Yılın Bankası\\' ödülünü verdi.\n",
    "\n",
    "İş Bankası, bankacılık sektörünün önde gelen uluslararası yayınları arasında yer alan The Banker dergisi tarafından, \\\"Türkiye’de Yılın Bankası\\\" ödülüne layık görüldü.\n",
    "\n",
    "Bankanın bu ödülü almasında; güçlü finansal performansı ile dijitalleşme ve inovasyon alanında başlattığı inisiyatiflerle yenilikçi hizmet anlayışını sürdürmesi etkili oldu. Ödülü, Londra’da düzenlenen törende İş Bankası Genel Müdür Yardımcısı Gamze Yalçın aldı.\n",
    "\n",
    "Konsolide aktif büyüklüğünü Eylül 2019 itibarıyla 526,3 milyar TL’ye yükselten ve \\\"Türkiye’nin en büyük özel bankası\\\" unvanını koruyan İş Bankası, aynı dönemde ekonomiye toplam 396,1 milyar TL düzeyinde destek sağladı. Konsolide mevduat hacmini 269,9 milyar TL’ye çıkaran ve mevduatta da özel bankalar arasındaki liderliğini sürdüren Banka, özkaynak büyüklüğünü bu yılın üçüncü çeyreği itibarıyla 61,2 milyar TL’ye yükseltti. Yılın ilk 9 ayında konsolide bazda 4,5 milyar TL net kâr elde eden Banka, sermaye yeterlilik oranını %17,8 seviyesine yükseltti.\n",
    "\n",
    "Müşteri odaklı yaklaşımı ile teknolojik yenilikler, dijitalleşme ve inovasyon alanında Türkiye’de sektöre öncülük eden İş Bankası, müşterilerinin teknolojinin getirdiği kolaylık ve hızdan faydalanması, tüm iş yapış süreçlerinin dijitalleşmeye adapte edilmesi, sağlam ve güçlü bir şekilde varlık göstererek öncü konumunun pekiştirilmesi için dönüşüm çalışmalarını sürdürüyor.\n",
    "\n",
    "İş Bankası’nda bu çalışmaları; yenilikçi ürün ve hizmetlerden girişimcileri destekleyen işbirlikleri ile şubeleri ve organizasyonel yapıyı kapsayan uygulamalara kadar geniş bir yelpazede yürütülüyor. Bankada şu anda dijital kanallardan yapılan işlemler %90’ı aşmış, mobil bankacılık uygulaması olan İşCep’in payı da %60’a yaklaşmış durumda.\n",
    "\n",
    "Bankanın üçüncü parti geliştiriciler, girişimler ve finansal kuruluşlara yenilikçi ürünler tasarlayabilecekleri bir ortam sağlayan Uygulama Programlama Arayüzü (API) Portalı, inovatif bir platform olma özelliği taşıyor. 14 uygulama ile başlayan API Portalı; bugün kredi işlemleri, para transferi, döviz işlemleri, mevduat hesap hareketleri gibi geniş bir yelpazede 20’den fazla farklı uygulamayı içeriyor. Geliştiriciler, API’lerle hazır şekilde sunulan fonksiyonları kullanarak, zaman ve kaynak maliyetinden tasarruf sağlıyor.\n",
    "\n",
    "Kurulduğu ilk yıllardan itibaren gerek iştirakler yoluyla gerekse müteşebbislere verdiği destek ile sadece finans alanında değil, finans dışı alanlarda da ülke kalkınmasında önemli rol üstlenen İş Bankası, bugüne kadar olduğu gibi Türkiye ekonomisini desteklemeye, teknolojik yenilikler ve dijitalleşme çalışmaları ile sektörde öncü olmaya devam edecek.\n",
    "\n",
    "İş Bankası, Forbes ve Brand Finance’ın listelerinde:\n",
    "\n",
    "Çalışanları ve emeklileri ile büyük bir aile olan İş Bankası, dünyanın en itibarlı dergilerinden olan Forbes’un her yıl yapmış olduğu \\\"En İyi 500 İşveren\\\" kategorisinde listeye giren tek Türk bankası oldu ve 62 banka arasında 32. sırada yer aldı.\n",
    "\n",
    "İş Bankası, dünyanın önde gelen marka değerleme ve strateji danışmanlığı kuruluşlarından olan Brand Finance’in yayımladığı \\\"Banking 500 2019\\\" raporunda da \\\"dünyanın marka gücü en yüksek 10 bankasından biri\\\" seçildi.\n",
    "\n",
    "\"Yılın Bankası\" ödülleri ve ödül töreni:\n",
    "\n",
    "Yılın Bankası ödülü; iş dünyasının yakından takip ettiği finans ve ekonomi mecralarından biri olan \\\"The Financial Times\\\" bünyesinde aylık olarak yayımlanan \\\"The Banker\\\" dergisi tarafından veriliyor. Ödüller, uzman bankacı ve analistlerin görüşlerine dayanarak dünyanın birçok ülkesindeki bankaların değerlendirilmesi sonucunda belirleniyor.\n",
    "\n",
    "Bu yılki ödül törenine; dünyanın birçok ülkesinden 120 bankanın yöneticilerinin de aralarında bulunduğu yaklaşık 350 kişi katıldı.\"\"\"\n",
    "\n",
    "print(metin)"
   ]
  },
  {
   "cell_type": "code",
   "execution_count": 85,
   "metadata": {},
   "outputs": [
    {
     "name": "stdout",
     "output_type": "stream",
     "text": [
      "['i̇ş', 'bankasına', 'yılın', 'bankası', 'ödülü', 'bankacılık', 'sektörünün', 'önde', 'gelen', 'uluslararası', 'yayınları', 'arasında', 'yer', 'alan', 'the', 'banker', 'dergisi', 'güçlü', 'finansal', 'performansı', 'ile', 'dijitalleşme', 've', 'inovasyon', 'alanında', 'başlattığı', 'inisiyatiflerle', 'yenilikçi', 'hizmet', 'anlayışını', 'sürdürmesi', 'nedeniyle', 'i̇ş', 'bankasına', 'yılın', 'bankası', 'ödülünü', 'verdi', 'i̇ş', 'bankası', 'bankacılık', 'sektörünün', 'önde', 'gelen', 'uluslararası', 'yayınları', 'arasında', 'yer', 'alan', 'the', 'banker', 'dergisi', 'tarafından', 'türkiyede', 'yılın', 'bankası', 'ödülüne', 'layık', 'görüldü', 'bankanın', 'bu', 'ödülü', 'almasında', 'güçlü', 'finansal', 'performansı', 'ile', 'dijitalleşme', 've', 'inovasyon', 'alanında', 'başlattığı', 'inisiyatiflerle', 'yenilikçi', 'hizmet', 'anlayışını', 'sürdürmesi', 'etkili', 'oldu', 'ödülü', 'londrada', 'düzenlenen', 'törende', 'i̇ş', 'bankası', 'genel', 'müdür', 'yardımcısı', 'gamze', 'yalçın', 'aldı', 'konsolide', 'aktif', 'büyüklüğünü', 'eylül', 'itibarıyla', 'milyar', 'tlye', 'yükselten', 've', 'türkiyenin', 'en', 'büyük', 'özel', 'bankası', 'unvanını', 'koruyan', 'i̇ş', 'bankası', 'aynı', 'dönemde', 'ekonomiye', 'toplam', 'milyar', 'tl', 'düzeyinde', 'destek', 'sağladı', 'konsolide', 'mevduat', 'hacmini', 'milyar', 'tlye', 'çıkaran', 've', 'mevduatta', 'da', 'özel', 'bankalar', 'arasındaki', 'liderliğini', 'sürdüren', 'banka', 'özkaynak', 'büyüklüğünü', 'bu', 'yılın', 'üçüncü', 'çeyreği', 'itibarıyla', 'milyar', 'tlye', 'yükseltti', 'yılın', 'ilk', 'ayında', 'konsolide', 'bazda', 'milyar', 'tl', 'net', 'kâr', 'elde', 'eden', 'banka', 'sermaye', 'yeterlilik', 'oranını', 'seviyesine', 'yükseltti', 'müşteri', 'odaklı', 'yaklaşımı', 'ile', 'teknolojik', 'yenilikler', 'dijitalleşme', 've', 'inovasyon', 'alanında', 'türkiyede', 'sektöre', 'öncülük', 'eden', 'i̇ş', 'bankası', 'müşterilerinin', 'teknolojinin', 'getirdiği', 'kolaylık', 've', 'hızdan', 'faydalanması', 'tüm', 'iş', 'yapış', 'süreçlerinin', 'dijitalleşmeye', 'adapte', 'edilmesi', 'sağlam', 've', 'güçlü', 'bir', 'şekilde', 'varlık', 'göstererek', 'öncü', 'konumunun', 'pekiştirilmesi', 'için', 'dönüşüm', 'çalışmalarını', 'sürdürüyor', 'i̇ş', 'bankasında', 'bu', 'çalışmaları', 'yenilikçi', 'ürün', 've', 'hizmetlerden', 'girişimcileri', 'destekleyen', 'işbirlikleri', 'ile', 'şubeleri', 've', 'organizasyonel', 'yapıyı', 'kapsayan', 'uygulamalara', 'kadar', 'geniş', 'bir', 'yelpazede', 'yürütülüyor', 'bankada', 'şu', 'anda', 'dijital', 'kanallardan', 'yapılan', 'işlemler', 'ı', 'aşmış', 'mobil', 'bankacılık', 'uygulaması', 'olan', 'i̇şcepin', 'payı', 'da', 'a', 'yaklaşmış', 'durumda', 'bankanın', 'üçüncü', 'parti', 'geliştiriciler', 'girişimler', 've', 'finansal', 'kuruluşlara', 'yenilikçi', 'ürünler', 'tasarlayabilecekleri', 'bir', 'ortam', 'sağlayan', 'uygulama', 'programlama', 'arayüzü', 'api', 'portalı', 'inovatif', 'bir', 'platform', 'olma', 'özelliği', 'taşıyor', 'uygulama', 'ile', 'başlayan', 'api', 'portalı', 'bugün', 'kredi', 'işlemleri', 'para', 'transferi', 'döviz', 'işlemleri', 'mevduat', 'hesap', 'hareketleri', 'gibi', 'geniş', 'bir', 'yelpazede', 'den', 'fazla', 'farklı', 'uygulamayı', 'içeriyor', 'geliştiriciler', 'apilerle', 'hazır', 'şekilde', 'sunulan', 'fonksiyonları', 'kullanarak', 'zaman', 've', 'kaynak', 'maliyetinden', 'tasarruf', 'sağlıyor', 'kurulduğu', 'ilk', 'yıllardan', 'itibaren', 'gerek', 'iştirakler', 'yoluyla', 'gerekse', 'müteşebbislere', 'verdiği', 'destek', 'ile', 'sadece', 'finans', 'alanında', 'değil', 'finans', 'dışı', 'alanlarda', 'da', 'ülke', 'kalkınmasında', 'önemli', 'rol', 'üstlenen', 'i̇ş', 'bankası', 'bugüne', 'kadar', 'olduğu', 'gibi', 'türkiye', 'ekonomisini', 'desteklemeye', 'teknolojik', 'yenilikler', 've', 'dijitalleşme', 'çalışmaları', 'ile', 'sektörde', 'öncü', 'olmaya', 'devam', 'edecek', 'i̇ş', 'bankası', 'forbes', 've', 'brand', 'financeın', 'listelerinde', 'çalışanları', 've', 'emeklileri', 'ile', 'büyük', 'bir', 'aile', 'olan', 'i̇ş', 'bankası', 'dünyanın', 'en', 'itibarlı', 'dergilerinden', 'olan', 'forbesun', 'her', 'yıl', 'yapmış', 'olduğu', 'en', 'i̇yi', 'i̇şveren', 'kategorisinde', 'listeye', 'giren', 'tek', 'türk', 'bankası', 'oldu', 've', 'banka', 'arasında', 'sırada', 'yer', 'aldı', 'i̇ş', 'bankası', 'dünyanın', 'önde', 'gelen', 'marka', 'değerleme', 've', 'strateji', 'danışmanlığı', 'kuruluşlarından', 'olan', 'brand', 'financein', 'yayımladığı', 'banking', 'raporunda', 'da', 'dünyanın', 'marka', 'gücü', 'en', 'yüksek', 'bankasından', 'biri', 'seçildi', 'yılın', 'bankası', 'ödülleri', 've', 'ödül', 'töreni', 'yılın', 'bankası', 'ödülü', 'iş', 'dünyasının', 'yakından', 'takip', 'ettiği', 'finans', 've', 'ekonomi', 'mecralarından', 'biri', 'olan', 'the', 'financial', 'times', 'bünyesinde', 'aylık', 'olarak', 'yayımlanan', 'the', 'banker', 'dergisi', 'tarafından', 'veriliyor', 'ödüller', 'uzman', 'bankacı', 've', 'analistlerin', 'görüşlerine', 'dayanarak', 'dünyanın', 'birçok', 'ülkesindeki', 'bankaların', 'değerlendirilmesi', 'sonucunda', 'belirleniyor', 'bu', 'yılki', 'ödül', 'törenine', 'dünyanın', 'birçok', 'ülkesinden', 'bankanın', 'yöneticilerinin', 'de', 'aralarında', 'bulunduğu', 'yaklaşık', 'kişi', 'katıldı']\n",
      "\n",
      "{'i̇ş': 11, 'bankasına': 2, 'yılın': 7, 'bankası': 15, 'ödülü': 4, 'bankacılık': 3, 'sektörünün': 2, 'önde': 3, 'gelen': 3, 'uluslararası': 2, 'yayınları': 2, 'arasında': 3, 'yer': 3, 'alan': 2, 'the': 4, 'banker': 3, 'dergisi': 3, 'güçlü': 3, 'finansal': 3, 'performansı': 2, 'ile': 8, 'dijitalleşme': 4, 've': 19, 'inovasyon': 3, 'alanında': 4, 'başlattığı': 2, 'inisiyatiflerle': 2, 'yenilikçi': 4, 'hizmet': 2, 'anlayışını': 2, 'sürdürmesi': 2, 'nedeniyle': 1, 'ödülünü': 1, 'verdi': 1, 'tarafından': 2, 'türkiyede': 2, 'ödülüne': 1, 'layık': 1, 'görüldü': 1, 'bankanın': 3, 'bu': 4, 'almasında': 1, 'etkili': 1, 'oldu': 2, 'londrada': 1, 'düzenlenen': 1, 'törende': 1, 'genel': 1, 'müdür': 1, 'yardımcısı': 1, 'gamze': 1, 'yalçın': 1, 'aldı': 2, 'konsolide': 3, 'aktif': 1, 'büyüklüğünü': 2, 'eylül': 1, 'itibarıyla': 2, 'milyar': 5, 'tlye': 3, 'yükselten': 1, 'türkiyenin': 1, 'en': 4, 'büyük': 2, 'özel': 2, 'unvanını': 1, 'koruyan': 1, 'aynı': 1, 'dönemde': 1, 'ekonomiye': 1, 'toplam': 1, 'tl': 2, 'düzeyinde': 1, 'destek': 2, 'sağladı': 1, 'mevduat': 2, 'hacmini': 1, 'çıkaran': 1, 'mevduatta': 1, 'da': 4, 'bankalar': 1, 'arasındaki': 1, 'liderliğini': 1, 'sürdüren': 1, 'banka': 3, 'özkaynak': 1, 'üçüncü': 2, 'çeyreği': 1, 'yükseltti': 2, 'ilk': 2, 'ayında': 1, 'bazda': 1, 'net': 1, 'kâr': 1, 'elde': 1, 'eden': 2, 'sermaye': 1, 'yeterlilik': 1, 'oranını': 1, 'seviyesine': 1, 'müşteri': 1, 'odaklı': 1, 'yaklaşımı': 1, 'teknolojik': 2, 'yenilikler': 2, 'sektöre': 1, 'öncülük': 1, 'müşterilerinin': 1, 'teknolojinin': 1, 'getirdiği': 1, 'kolaylık': 1, 'hızdan': 1, 'faydalanması': 1, 'tüm': 1, 'iş': 2, 'yapış': 1, 'süreçlerinin': 1, 'dijitalleşmeye': 1, 'adapte': 1, 'edilmesi': 1, 'sağlam': 1, 'bir': 6, 'şekilde': 2, 'varlık': 1, 'göstererek': 1, 'öncü': 2, 'konumunun': 1, 'pekiştirilmesi': 1, 'için': 1, 'dönüşüm': 1, 'çalışmalarını': 1, 'sürdürüyor': 1, 'bankasında': 1, 'çalışmaları': 2, 'ürün': 1, 'hizmetlerden': 1, 'girişimcileri': 1, 'destekleyen': 1, 'işbirlikleri': 1, 'şubeleri': 1, 'organizasyonel': 1, 'yapıyı': 1, 'kapsayan': 1, 'uygulamalara': 1, 'kadar': 2, 'geniş': 2, 'yelpazede': 2, 'yürütülüyor': 1, 'bankada': 1, 'şu': 1, 'anda': 1, 'dijital': 1, 'kanallardan': 1, 'yapılan': 1, 'işlemler': 1, 'ı': 1, 'aşmış': 1, 'mobil': 1, 'uygulaması': 1, 'olan': 5, 'i̇şcepin': 1, 'payı': 1, 'a': 1, 'yaklaşmış': 1, 'durumda': 1, 'parti': 1, 'geliştiriciler': 2, 'girişimler': 1, 'kuruluşlara': 1, 'ürünler': 1, 'tasarlayabilecekleri': 1, 'ortam': 1, 'sağlayan': 1, 'uygulama': 2, 'programlama': 1, 'arayüzü': 1, 'api': 2, 'portalı': 2, 'inovatif': 1, 'platform': 1, 'olma': 1, 'özelliği': 1, 'taşıyor': 1, 'başlayan': 1, 'bugün': 1, 'kredi': 1, 'işlemleri': 2, 'para': 1, 'transferi': 1, 'döviz': 1, 'hesap': 1, 'hareketleri': 1, 'gibi': 2, 'den': 1, 'fazla': 1, 'farklı': 1, 'uygulamayı': 1, 'içeriyor': 1, 'apilerle': 1, 'hazır': 1, 'sunulan': 1, 'fonksiyonları': 1, 'kullanarak': 1, 'zaman': 1, 'kaynak': 1, 'maliyetinden': 1, 'tasarruf': 1, 'sağlıyor': 1, 'kurulduğu': 1, 'yıllardan': 1, 'itibaren': 1, 'gerek': 1, 'iştirakler': 1, 'yoluyla': 1, 'gerekse': 1, 'müteşebbislere': 1, 'verdiği': 1, 'sadece': 1, 'finans': 3, 'değil': 1, 'dışı': 1, 'alanlarda': 1, 'ülke': 1, 'kalkınmasında': 1, 'önemli': 1, 'rol': 1, 'üstlenen': 1, 'bugüne': 1, 'olduğu': 2, 'türkiye': 1, 'ekonomisini': 1, 'desteklemeye': 1, 'sektörde': 1, 'olmaya': 1, 'devam': 1, 'edecek': 1, 'forbes': 1, 'brand': 2, 'financeın': 1, 'listelerinde': 1, 'çalışanları': 1, 'emeklileri': 1, 'aile': 1, 'dünyanın': 5, 'itibarlı': 1, 'dergilerinden': 1, 'forbesun': 1, 'her': 1, 'yıl': 1, 'yapmış': 1, 'i̇yi': 1, 'i̇şveren': 1, 'kategorisinde': 1, 'listeye': 1, 'giren': 1, 'tek': 1, 'türk': 1, 'sırada': 1, 'marka': 2, 'değerleme': 1, 'strateji': 1, 'danışmanlığı': 1, 'kuruluşlarından': 1, 'financein': 1, 'yayımladığı': 1, 'banking': 1, 'raporunda': 1, 'gücü': 1, 'yüksek': 1, 'bankasından': 1, 'biri': 2, 'seçildi': 1, 'ödülleri': 1, 'ödül': 2, 'töreni': 1, 'dünyasının': 1, 'yakından': 1, 'takip': 1, 'ettiği': 1, 'ekonomi': 1, 'mecralarından': 1, 'financial': 1, 'times': 1, 'bünyesinde': 1, 'aylık': 1, 'olarak': 1, 'yayımlanan': 1, 'veriliyor': 1, 'ödüller': 1, 'uzman': 1, 'bankacı': 1, 'analistlerin': 1, 'görüşlerine': 1, 'dayanarak': 1, 'birçok': 2, 'ülkesindeki': 1, 'bankaların': 1, 'değerlendirilmesi': 1, 'sonucunda': 1, 'belirleniyor': 1, 'yılki': 1, 'törenine': 1, 'ülkesinden': 1, 'yöneticilerinin': 1, 'de': 1, 'aralarında': 1, 'bulunduğu': 1, 'yaklaşık': 1, 'kişi': 1, 'katıldı': 1}\n"
     ]
    }
   ],
   "source": [
    "# Çözümünüz\n",
    "transTable = str.maketrans('', '', '’' + string.punctuation + string.digits)\n",
    "kelimeler = metin.translate(transTable).lower().split()\n",
    "\n",
    "print(kelimeler)\n",
    "print()\n",
    "\n",
    "kelimeSayilari = {}\n",
    "for kelime in kelimeler:\n",
    "    kelimeSayilari[kelime] = kelimeSayilari.get(kelime, 0) + 1\n",
    "\n",
    "print(kelimeSayilari)"
   ]
  },
  {
   "cell_type": "markdown",
   "metadata": {},
   "source": [
    "## Konsoldan Girdi"
   ]
  },
  {
   "cell_type": "markdown",
   "metadata": {},
   "source": [
    "Python'da **input** komutu, konsoldan veri girdisi sağlar. Her zaman bir string döndürür. Girdi türünden eminsek doğrudan çevrilebilir ya da tipi **eval** komutu ile tahmin edilebilir (**eval** komutu, güvenlik riski oluşturduğu için genel olarak tercih edilmemektedir)."
   ]
  },
  {
   "cell_type": "code",
   "execution_count": 93,
   "metadata": {},
   "outputs": [
    {
     "name": "stdout",
     "output_type": "stream",
     "text": [
      "deneme: 324\n",
      "orijinal: <class 'str'>\n",
      "int ile çevirme: <class 'int'>\n",
      "eval ile çalıştırma <class 'int'>\n"
     ]
    }
   ],
   "source": [
    "inp = input('deneme: ')\n",
    "\n",
    "print(\"orijinal:\", type(inp))\n",
    "print(\"int ile çevirme:\", type(int(inp)))\n",
    "print(\"eval ile çalıştırma\", type(eval(inp)))"
   ]
  },
  {
   "cell_type": "markdown",
   "metadata": {},
   "source": [
    "## Dosya Girdi-Çıktı İşlemleri"
   ]
  },
  {
   "cell_type": "markdown",
   "metadata": {},
   "source": [
    "İlk başta dosyayı açmak lazım: \n",
    "```python\n",
    "f = open(dosya_adı, erişim_türü)\n",
    "```\n",
    "Erişim türü dosyanın ne şekilde açılacağını belirler: \n",
    "* Okuma: ‘r’, ‘rb’, ‘r+’, ‘rb+’\n",
    "* Yazma: ‘w’, ‘wb’, ‘w+’, ‘wb+’\n",
    "* Ekleme: ‘a’, ‘ab’, ‘a+’, ‘ab+’ \n",
    "\n",
    "Erişim türü izin verdikçe dosya okunup yazılabilir:\n",
    "```python\n",
    "satirlar = f.readlines()\n",
    "f.write(yazi)\n",
    "f.close()\n",
    "```"
   ]
  },
  {
   "cell_type": "markdown",
   "metadata": {},
   "source": [
    "## Örnek: Sayı Oyunu\n",
    "\n",
    "Sayı oyunu: \n",
    "1. Bilgisayar 1 ile 100 arasında bir sayı tutacak\n",
    "2. İnsan konsoldan bunu tahmin etmeye çalışacak. 0 girdisi oyundan çıkma komutu olsun. (Hint: Bir döngüden break ile çıkmak mümkün)\n",
    "3. Bilgisayar yukarı veya aşağı diyecek. Bunun yanında, izin verilmeyen girdileri ve çıkma komutunu kontrol edecek. \n",
    "4. Doğru tahmin edince, yeniden oynamak isteyip istemediğini soracak\n",
    "\n",
    "Bu oyunu aşağıdaki zorluk derecelerine göre yazmaya çalışın:\n",
    "1. Düz bir şekilde döngüler ve koşul önermeleri ile\n",
    "2. Olabildiğince fonksiyonlara bölerek\n",
    "3. Tahmin sayısını hafızada tutarak ve ortalama tahmin sayısı hesaplayarak\n",
    "4. Bütün tahminleri hafızada tutup, sonucu bir log dosyasına yazarak"
   ]
  },
  {
   "cell_type": "code",
   "execution_count": 98,
   "metadata": {},
   "outputs": [
    {
     "name": "stdout",
     "output_type": "stream",
     "text": [
      "Tahmininizi Giriniz: 56\n",
      "Daha küçük\n",
      "Tahmininizi Giriniz: 32\n",
      "Daha küçük\n",
      "Tahmininizi Giriniz: 10\n",
      "Daha büyük\n",
      "Tahmininizi Giriniz: 20\n",
      "Daha küçük\n",
      "Tahmininizi Giriniz: 15\n",
      "Daha küçük\n",
      "Tahmininizi Giriniz: 13\n",
      "Daha küçük\n",
      "Tahmininizi Giriniz: 12\n",
      "Doğru tahmin!\n",
      "Bir daha oynamak ister misiniz (e/h): h\n",
      "Oyundan çıkılıyor\n"
     ]
    }
   ],
   "source": [
    "# Çözümünüz\n",
    "\n",
    "import random\n",
    "number = random.randint(1, 100)\n",
    "\n",
    "\n",
    "while True:\n",
    "    guess = input('Tahmininizi Giriniz: ')\n",
    "    guess = int(guess)\n",
    "\n",
    "    if guess == 0:\n",
    "        print('Oyundan çıkılıyor')\n",
    "        break\n",
    "    if number == guess:\n",
    "        print('Doğru tahmin!')\n",
    "        cevap = input('Bir daha oynamak ister misiniz (e/h): ')\n",
    "        if cevap == 'e':\n",
    "            number = random.randint(1, 100)\n",
    "        else:\n",
    "            print('Oyundan çıkılıyor')\n",
    "            break\n",
    "    elif number < guess:\n",
    "        print('Daha küçük')\n",
    "    else:\n",
    "        print('Daha büyük')\n",
    "        "
   ]
  },
  {
   "cell_type": "markdown",
   "metadata": {},
   "source": [
    "## Tavsiye Edilen Sonraki Adımlar\n",
    "\n",
    "* Python standard kütüphanesine göz atmak\n",
    "* Fonksiyonlara değişken sayıda girdiler\n",
    "* Exception'lar ve try/except/finally ile error handling\n",
    "* Python ile nesne tabanlı programlama (class)\n",
    "* Generators ve yield statement\n",
    "* lambda statements\n",
    "* Jupyter Notebook kullanmayı düşünüyorsanız *magic commands*\n",
    "* Python ile web tarama\n",
    "* Python ile database erişimi\n"
   ]
  }
 ],
 "metadata": {
  "@webio": {
   "lastCommId": null,
   "lastKernelId": null
  },
  "kernelspec": {
   "display_name": "Python 3",
   "language": "python",
   "name": "python3"
  },
  "language_info": {
   "codemirror_mode": {
    "name": "ipython",
    "version": 3
   },
   "file_extension": ".py",
   "mimetype": "text/x-python",
   "name": "python",
   "nbconvert_exporter": "python",
   "pygments_lexer": "ipython3",
   "version": "3.7.4"
  }
 },
 "nbformat": 4,
 "nbformat_minor": 1
}
